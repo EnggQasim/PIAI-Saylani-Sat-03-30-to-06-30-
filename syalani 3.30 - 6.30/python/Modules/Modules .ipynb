{
 "cells": [
  {
   "cell_type": "markdown",
   "metadata": {},
   "source": [
    "# Package managers\n",
    "- pip\n",
    "- conda\n",
    "\n",
    "pip install math\n",
    "conda install math"
   ]
  },
  {
   "cell_type": "code",
   "execution_count": 2,
   "metadata": {},
   "outputs": [],
   "source": [
    "import math as m"
   ]
  },
  {
   "cell_type": "code",
   "execution_count": 3,
   "metadata": {},
   "outputs": [
    {
     "data": {
      "text/plain": [
       "9.0"
      ]
     },
     "execution_count": 3,
     "metadata": {},
     "output_type": "execute_result"
    }
   ],
   "source": [
    "m.pow(3,2) #Power(base, power)"
   ]
  },
  {
   "cell_type": "code",
   "execution_count": 4,
   "metadata": {},
   "outputs": [
    {
     "data": {
      "text/plain": [
       "3.0"
      ]
     },
     "execution_count": 4,
     "metadata": {},
     "output_type": "execute_result"
    }
   ],
   "source": [
    "m.sqrt(9)"
   ]
  },
  {
   "cell_type": "code",
   "execution_count": 5,
   "metadata": {},
   "outputs": [
    {
     "data": {
      "text/plain": [
       "5"
      ]
     },
     "execution_count": 5,
     "metadata": {},
     "output_type": "execute_result"
    }
   ],
   "source": [
    "m.ceil(4.7) #Larger integer"
   ]
  },
  {
   "cell_type": "code",
   "execution_count": 7,
   "metadata": {},
   "outputs": [
    {
     "data": {
      "text/plain": [
       "-4"
      ]
     },
     "execution_count": 7,
     "metadata": {},
     "output_type": "execute_result"
    }
   ],
   "source": [
    "m.ceil(-4.3)"
   ]
  },
  {
   "cell_type": "code",
   "execution_count": 10,
   "metadata": {},
   "outputs": [
    {
     "data": {
      "text/plain": [
       "4"
      ]
     },
     "execution_count": 10,
     "metadata": {},
     "output_type": "execute_result"
    }
   ],
   "source": [
    "m.floor(4.9) #Smaller integer"
   ]
  },
  {
   "cell_type": "code",
   "execution_count": 9,
   "metadata": {},
   "outputs": [
    {
     "data": {
      "text/plain": [
       "-4"
      ]
     },
     "execution_count": 9,
     "metadata": {},
     "output_type": "execute_result"
    }
   ],
   "source": [
    "m.floor(-3.6)"
   ]
  },
  {
   "cell_type": "code",
   "execution_count": 12,
   "metadata": {},
   "outputs": [
    {
     "data": {
      "text/plain": [
       "4.6"
      ]
     },
     "execution_count": 12,
     "metadata": {},
     "output_type": "execute_result"
    }
   ],
   "source": [
    "m.fabs(4.6) #Always gives positive"
   ]
  },
  {
   "cell_type": "code",
   "execution_count": 13,
   "metadata": {},
   "outputs": [
    {
     "data": {
      "text/plain": [
       "6.8"
      ]
     },
     "execution_count": 13,
     "metadata": {},
     "output_type": "execute_result"
    }
   ],
   "source": [
    "m.fabs(-6.8)"
   ]
  },
  {
   "cell_type": "code",
   "execution_count": 14,
   "metadata": {},
   "outputs": [
    {
     "data": {
      "text/plain": [
       "24"
      ]
     },
     "execution_count": 14,
     "metadata": {},
     "output_type": "execute_result"
    }
   ],
   "source": [
    "m.factorial(4)"
   ]
  },
  {
   "cell_type": "code",
   "execution_count": 16,
   "metadata": {},
   "outputs": [
    {
     "data": {
      "text/plain": [
       "5"
      ]
     },
     "execution_count": 16,
     "metadata": {},
     "output_type": "execute_result"
    }
   ],
   "source": [
    "m.gcd(20,15) #Greatest common factor/divisor"
   ]
  },
  {
   "cell_type": "code",
   "execution_count": 21,
   "metadata": {},
   "outputs": [
    {
     "data": {
      "text/plain": [
       "True"
      ]
     },
     "execution_count": 21,
     "metadata": {},
     "output_type": "execute_result"
    }
   ],
   "source": [
    "m.isfinite(45)"
   ]
  },
  {
   "cell_type": "code",
   "execution_count": 26,
   "metadata": {},
   "outputs": [
    {
     "data": {
      "text/plain": [
       "False"
      ]
     },
     "execution_count": 26,
     "metadata": {},
     "output_type": "execute_result"
    }
   ],
   "source": [
    "import numpy as np\n",
    "m.isfinite(np.nan)"
   ]
  },
  {
   "cell_type": "code",
   "execution_count": 24,
   "metadata": {},
   "outputs": [
    {
     "data": {
      "text/plain": [
       "-0.9880316240928618"
      ]
     },
     "execution_count": 24,
     "metadata": {},
     "output_type": "execute_result"
    }
   ],
   "source": [
    "m.sin(30)"
   ]
  },
  {
   "cell_type": "code",
   "execution_count": 25,
   "metadata": {},
   "outputs": [
    {
     "data": {
      "text/plain": [
       "0.5253219888177297"
      ]
     },
     "execution_count": 25,
     "metadata": {},
     "output_type": "execute_result"
    }
   ],
   "source": [
    "m.cos(45)"
   ]
  },
  {
   "cell_type": "code",
   "execution_count": 30,
   "metadata": {},
   "outputs": [
    {
     "data": {
      "text/plain": [
       "1.0471975511965979"
      ]
     },
     "execution_count": 30,
     "metadata": {},
     "output_type": "execute_result"
    }
   ],
   "source": [
    "m.acos(0.5) #inverse cos"
   ]
  },
  {
   "cell_type": "code",
   "execution_count": 31,
   "metadata": {},
   "outputs": [
    {
     "data": {
      "text/plain": [
       "0.3394833781504903"
      ]
     },
     "execution_count": 31,
     "metadata": {},
     "output_type": "execute_result"
    }
   ],
   "source": [
    "m.asin(0.333) #inverse sin"
   ]
  },
  {
   "cell_type": "code",
   "execution_count": 32,
   "metadata": {},
   "outputs": [
    {
     "data": {
      "text/plain": [
       "20.085536923187668"
      ]
     },
     "execution_count": 32,
     "metadata": {},
     "output_type": "execute_result"
    }
   ],
   "source": [
    "m.exp(3) #raise a number to e power"
   ]
  },
  {
   "cell_type": "code",
   "execution_count": null,
   "metadata": {},
   "outputs": [],
   "source": []
  },
  {
   "cell_type": "code",
   "execution_count": 28,
   "metadata": {},
   "outputs": [
    {
     "data": {
      "text/plain": [
       "4"
      ]
     },
     "execution_count": 28,
     "metadata": {},
     "output_type": "execute_result"
    }
   ],
   "source": [
    "m.trunc(4.5)"
   ]
  },
  {
   "cell_type": "code",
   "execution_count": 33,
   "metadata": {},
   "outputs": [
    {
     "data": {
      "text/plain": [
       "-10.0"
      ]
     },
     "execution_count": 33,
     "metadata": {},
     "output_type": "execute_result"
    }
   ],
   "source": [
    "m.copysign(10,-58)"
   ]
  },
  {
   "cell_type": "code",
   "execution_count": 34,
   "metadata": {},
   "outputs": [
    {
     "data": {
      "text/plain": [
       "4.605170185988092"
      ]
     },
     "execution_count": 34,
     "metadata": {},
     "output_type": "execute_result"
    }
   ],
   "source": [
    "m.log(100)"
   ]
  },
  {
   "cell_type": "code",
   "execution_count": 35,
   "metadata": {},
   "outputs": [
    {
     "data": {
      "text/plain": [
       "4.19180654857877"
      ]
     },
     "execution_count": 35,
     "metadata": {},
     "output_type": "execute_result"
    }
   ],
   "source": [
    "m.log(100,3)"
   ]
  },
  {
   "cell_type": "code",
   "execution_count": 36,
   "metadata": {},
   "outputs": [
    {
     "data": {
      "text/plain": [
       "2.0"
      ]
     },
     "execution_count": 36,
     "metadata": {},
     "output_type": "execute_result"
    }
   ],
   "source": [
    "m.log10(100)"
   ]
  },
  {
   "cell_type": "code",
   "execution_count": 37,
   "metadata": {},
   "outputs": [
    {
     "data": {
      "text/plain": [
       "6.0"
      ]
     },
     "execution_count": 37,
     "metadata": {},
     "output_type": "execute_result"
    }
   ],
   "source": [
    "m.log2(64)"
   ]
  },
  {
   "cell_type": "code",
   "execution_count": 39,
   "metadata": {},
   "outputs": [
    {
     "data": {
      "text/plain": [
       "5.0"
      ]
     },
     "execution_count": 39,
     "metadata": {},
     "output_type": "execute_result"
    }
   ],
   "source": [
    "m.hypot(4,3)"
   ]
  },
  {
   "cell_type": "code",
   "execution_count": 40,
   "metadata": {},
   "outputs": [
    {
     "data": {
      "text/plain": [
       "1.0"
      ]
     },
     "execution_count": 40,
     "metadata": {},
     "output_type": "execute_result"
    }
   ],
   "source": [
    "m.remainder(10,3)"
   ]
  },
  {
   "cell_type": "code",
   "execution_count": 41,
   "metadata": {},
   "outputs": [
    {
     "data": {
      "text/plain": [
       "0.9965830028887622"
      ]
     },
     "execution_count": 41,
     "metadata": {},
     "output_type": "execute_result"
    }
   ],
   "source": [
    "m.radians(57.1)"
   ]
  },
  {
   "cell_type": "code",
   "execution_count": 42,
   "metadata": {},
   "outputs": [
    {
     "data": {
      "text/plain": [
       "2291.831180523293"
      ]
     },
     "execution_count": 42,
     "metadata": {},
     "output_type": "execute_result"
    }
   ],
   "source": [
    "m.degrees(40)"
   ]
  },
  {
   "cell_type": "markdown",
   "metadata": {},
   "source": [
    "# Constants "
   ]
  },
  {
   "cell_type": "code",
   "execution_count": 46,
   "metadata": {},
   "outputs": [
    {
     "data": {
      "text/plain": [
       "3.141592653589793"
      ]
     },
     "execution_count": 46,
     "metadata": {},
     "output_type": "execute_result"
    }
   ],
   "source": [
    "m.pi"
   ]
  },
  {
   "cell_type": "code",
   "execution_count": 47,
   "metadata": {},
   "outputs": [
    {
     "data": {
      "text/plain": [
       "2.718281828459045"
      ]
     },
     "execution_count": 47,
     "metadata": {},
     "output_type": "execute_result"
    }
   ],
   "source": [
    "m.e"
   ]
  },
  {
   "cell_type": "code",
   "execution_count": 48,
   "metadata": {},
   "outputs": [
    {
     "data": {
      "text/plain": [
       "6.283185307179586"
      ]
     },
     "execution_count": 48,
     "metadata": {},
     "output_type": "execute_result"
    }
   ],
   "source": [
    "m.tau"
   ]
  },
  {
   "cell_type": "markdown",
   "metadata": {},
   "source": [
    "# Date Time"
   ]
  },
  {
   "cell_type": "code",
   "execution_count": 49,
   "metadata": {},
   "outputs": [],
   "source": [
    "import datetime as d"
   ]
  },
  {
   "cell_type": "code",
   "execution_count": 51,
   "metadata": {},
   "outputs": [
    {
     "data": {
      "text/plain": [
       "datetime.datetime(2019, 7, 28, 20, 1, 31, 397761)"
      ]
     },
     "execution_count": 51,
     "metadata": {},
     "output_type": "execute_result"
    }
   ],
   "source": [
    "x=d.datetime.now()\n",
    "x"
   ]
  },
  {
   "cell_type": "code",
   "execution_count": 52,
   "metadata": {},
   "outputs": [
    {
     "data": {
      "text/plain": [
       "2019"
      ]
     },
     "execution_count": 52,
     "metadata": {},
     "output_type": "execute_result"
    }
   ],
   "source": [
    "x.year"
   ]
  },
  {
   "cell_type": "code",
   "execution_count": 53,
   "metadata": {},
   "outputs": [
    {
     "data": {
      "text/plain": [
       "7"
      ]
     },
     "execution_count": 53,
     "metadata": {},
     "output_type": "execute_result"
    }
   ],
   "source": [
    "x.month"
   ]
  },
  {
   "cell_type": "code",
   "execution_count": 54,
   "metadata": {},
   "outputs": [
    {
     "data": {
      "text/plain": [
       "28"
      ]
     },
     "execution_count": 54,
     "metadata": {},
     "output_type": "execute_result"
    }
   ],
   "source": [
    "x.day"
   ]
  },
  {
   "cell_type": "code",
   "execution_count": 56,
   "metadata": {},
   "outputs": [
    {
     "data": {
      "text/plain": [
       "'Sunday'"
      ]
     },
     "execution_count": 56,
     "metadata": {},
     "output_type": "execute_result"
    }
   ],
   "source": [
    "x.strftime('%A')"
   ]
  },
  {
   "cell_type": "code",
   "execution_count": 57,
   "metadata": {},
   "outputs": [
    {
     "data": {
      "text/plain": [
       "'Sun'"
      ]
     },
     "execution_count": 57,
     "metadata": {},
     "output_type": "execute_result"
    }
   ],
   "source": [
    "x.strftime('%a')"
   ]
  },
  {
   "cell_type": "code",
   "execution_count": 58,
   "metadata": {},
   "outputs": [
    {
     "data": {
      "text/plain": [
       "'July'"
      ]
     },
     "execution_count": 58,
     "metadata": {},
     "output_type": "execute_result"
    }
   ],
   "source": [
    "x.strftime('%B')"
   ]
  },
  {
   "cell_type": "code",
   "execution_count": 60,
   "metadata": {},
   "outputs": [
    {
     "data": {
      "text/plain": [
       "'Jul'"
      ]
     },
     "execution_count": 60,
     "metadata": {},
     "output_type": "execute_result"
    }
   ],
   "source": [
    "x.strftime('%b')"
   ]
  },
  {
   "cell_type": "code",
   "execution_count": 61,
   "metadata": {},
   "outputs": [
    {
     "data": {
      "text/plain": [
       "'07'"
      ]
     },
     "execution_count": 61,
     "metadata": {},
     "output_type": "execute_result"
    }
   ],
   "source": [
    "x.strftime('%m')"
   ]
  },
  {
   "cell_type": "code",
   "execution_count": 62,
   "metadata": {},
   "outputs": [
    {
     "data": {
      "text/plain": [
       "'01'"
      ]
     },
     "execution_count": 62,
     "metadata": {},
     "output_type": "execute_result"
    }
   ],
   "source": [
    "x.strftime('%M')"
   ]
  },
  {
   "cell_type": "code",
   "execution_count": 63,
   "metadata": {},
   "outputs": [
    {
     "data": {
      "text/plain": [
       "'07/28/19'"
      ]
     },
     "execution_count": 63,
     "metadata": {},
     "output_type": "execute_result"
    }
   ],
   "source": [
    "x.strftime('%D')"
   ]
  },
  {
   "cell_type": "code",
   "execution_count": 64,
   "metadata": {},
   "outputs": [
    {
     "data": {
      "text/plain": [
       "'28'"
      ]
     },
     "execution_count": 64,
     "metadata": {},
     "output_type": "execute_result"
    }
   ],
   "source": [
    "x.strftime('%d')"
   ]
  },
  {
   "cell_type": "code",
   "execution_count": 66,
   "metadata": {},
   "outputs": [
    {
     "data": {
      "text/plain": [
       "'28 July, 2019 08'"
      ]
     },
     "execution_count": 66,
     "metadata": {},
     "output_type": "execute_result"
    }
   ],
   "source": [
    "x.strftime('%d %B, %Y %I')"
   ]
  },
  {
   "cell_type": "code",
   "execution_count": 72,
   "metadata": {},
   "outputs": [],
   "source": [
    "dob = '05 jan 1980'"
   ]
  },
  {
   "cell_type": "code",
   "execution_count": 68,
   "metadata": {},
   "outputs": [
    {
     "ename": "AttributeError",
     "evalue": "'str' object has no attribute 'year'",
     "output_type": "error",
     "traceback": [
      "\u001b[0;31m---------------------------------------------------------------------------\u001b[0m",
      "\u001b[0;31mAttributeError\u001b[0m                            Traceback (most recent call last)",
      "\u001b[0;32m<ipython-input-68-9de95404b704>\u001b[0m in \u001b[0;36m<module>\u001b[0;34m\u001b[0m\n\u001b[0;32m----> 1\u001b[0;31m \u001b[0mdob\u001b[0m\u001b[0;34m.\u001b[0m\u001b[0myear\u001b[0m\u001b[0;34m\u001b[0m\u001b[0;34m\u001b[0m\u001b[0m\n\u001b[0m",
      "\u001b[0;31mAttributeError\u001b[0m: 'str' object has no attribute 'year'"
     ]
    }
   ],
   "source": [
    "dob.year"
   ]
  },
  {
   "cell_type": "code",
   "execution_count": 73,
   "metadata": {},
   "outputs": [],
   "source": [
    "abc= d.datetime.strptime(dob,'%d %b %Y')"
   ]
  },
  {
   "cell_type": "code",
   "execution_count": 74,
   "metadata": {},
   "outputs": [
    {
     "data": {
      "text/plain": [
       "datetime.datetime(1980, 1, 5, 0, 0)"
      ]
     },
     "execution_count": 74,
     "metadata": {},
     "output_type": "execute_result"
    }
   ],
   "source": [
    "abc"
   ]
  },
  {
   "cell_type": "code",
   "execution_count": 75,
   "metadata": {},
   "outputs": [
    {
     "data": {
      "text/plain": [
       "1980"
      ]
     },
     "execution_count": 75,
     "metadata": {},
     "output_type": "execute_result"
    }
   ],
   "source": [
    "abc.year"
   ]
  },
  {
   "cell_type": "code",
   "execution_count": 76,
   "metadata": {},
   "outputs": [
    {
     "data": {
      "text/plain": [
       "5"
      ]
     },
     "execution_count": 76,
     "metadata": {},
     "output_type": "execute_result"
    }
   ],
   "source": [
    "abc.day"
   ]
  },
  {
   "cell_type": "code",
   "execution_count": 77,
   "metadata": {},
   "outputs": [
    {
     "data": {
      "text/plain": [
       "1"
      ]
     },
     "execution_count": 77,
     "metadata": {},
     "output_type": "execute_result"
    }
   ],
   "source": [
    "abc.month"
   ]
  },
  {
   "cell_type": "code",
   "execution_count": 79,
   "metadata": {},
   "outputs": [
    {
     "data": {
      "text/plain": [
       "5"
      ]
     },
     "execution_count": 79,
     "metadata": {},
     "output_type": "execute_result"
    }
   ],
   "source": [
    "abc.day"
   ]
  },
  {
   "cell_type": "markdown",
   "metadata": {},
   "source": [
    "Task: How many days have you spent in this world?"
   ]
  },
  {
   "cell_type": "markdown",
   "metadata": {},
   "source": [
    "# OS "
   ]
  },
  {
   "cell_type": "code",
   "execution_count": 80,
   "metadata": {},
   "outputs": [],
   "source": [
    "import os"
   ]
  },
  {
   "cell_type": "code",
   "execution_count": 81,
   "metadata": {},
   "outputs": [
    {
     "name": "stdout",
     "output_type": "stream",
     "text": [
      "['CLD_CONTINUED', 'CLD_DUMPED', 'CLD_EXITED', 'CLD_TRAPPED', 'DirEntry', 'EX_CANTCREAT', 'EX_CONFIG', 'EX_DATAERR', 'EX_IOERR', 'EX_NOHOST', 'EX_NOINPUT', 'EX_NOPERM', 'EX_NOUSER', 'EX_OK', 'EX_OSERR', 'EX_OSFILE', 'EX_PROTOCOL', 'EX_SOFTWARE', 'EX_TEMPFAIL', 'EX_UNAVAILABLE', 'EX_USAGE', 'F_LOCK', 'F_OK', 'F_TEST', 'F_TLOCK', 'F_ULOCK', 'MutableMapping', 'NGROUPS_MAX', 'O_ACCMODE', 'O_APPEND', 'O_ASYNC', 'O_CLOEXEC', 'O_CREAT', 'O_DIRECT', 'O_DIRECTORY', 'O_DSYNC', 'O_EXCL', 'O_LARGEFILE', 'O_NDELAY', 'O_NOATIME', 'O_NOCTTY', 'O_NOFOLLOW', 'O_NONBLOCK', 'O_RDONLY', 'O_RDWR', 'O_RSYNC', 'O_SYNC', 'O_TRUNC', 'O_WRONLY', 'POSIX_FADV_DONTNEED', 'POSIX_FADV_NOREUSE', 'POSIX_FADV_NORMAL', 'POSIX_FADV_RANDOM', 'POSIX_FADV_SEQUENTIAL', 'POSIX_FADV_WILLNEED', 'PRIO_PGRP', 'PRIO_PROCESS', 'PRIO_USER', 'P_ALL', 'P_NOWAIT', 'P_NOWAITO', 'P_PGID', 'P_PID', 'P_WAIT', 'PathLike', 'RTLD_DEEPBIND', 'RTLD_GLOBAL', 'RTLD_LAZY', 'RTLD_LOCAL', 'RTLD_NODELETE', 'RTLD_NOLOAD', 'RTLD_NOW', 'R_OK', 'SCHED_BATCH', 'SCHED_FIFO', 'SCHED_IDLE', 'SCHED_OTHER', 'SCHED_RESET_ON_FORK', 'SCHED_RR', 'SEEK_CUR', 'SEEK_END', 'SEEK_SET', 'ST_APPEND', 'ST_MANDLOCK', 'ST_NOATIME', 'ST_NODEV', 'ST_NODIRATIME', 'ST_NOEXEC', 'ST_NOSUID', 'ST_RDONLY', 'ST_RELATIME', 'ST_SYNCHRONOUS', 'ST_WRITE', 'TMP_MAX', 'WCONTINUED', 'WCOREDUMP', 'WEXITED', 'WEXITSTATUS', 'WIFCONTINUED', 'WIFEXITED', 'WIFSIGNALED', 'WIFSTOPPED', 'WNOHANG', 'WNOWAIT', 'WSTOPPED', 'WSTOPSIG', 'WTERMSIG', 'WUNTRACED', 'W_OK', 'XATTR_CREATE', 'XATTR_REPLACE', 'XATTR_SIZE_MAX', 'X_OK', '_Environ', '__all__', '__builtins__', '__cached__', '__doc__', '__file__', '__loader__', '__name__', '__package__', '__spec__', '_execvpe', '_exists', '_exit', '_fspath', '_fwalk', '_get_exports_list', '_putenv', '_spawnvef', '_unsetenv', '_wrap_close', 'abc', 'abort', 'access', 'altsep', 'chdir', 'chmod', 'chown', 'chroot', 'close', 'closerange', 'confstr', 'confstr_names', 'cpu_count', 'ctermid', 'curdir', 'defpath', 'device_encoding', 'devnull', 'dup', 'dup2', 'environ', 'environb', 'error', 'execl', 'execle', 'execlp', 'execlpe', 'execv', 'execve', 'execvp', 'execvpe', 'extsep', 'fchdir', 'fchmod', 'fchown', 'fdatasync', 'fdopen', 'fork', 'forkpty', 'fpathconf', 'fsdecode', 'fsencode', 'fspath', 'fstat', 'fstatvfs', 'fsync', 'ftruncate', 'fwalk', 'get_blocking', 'get_exec_path', 'get_inheritable', 'get_terminal_size', 'getcwd', 'getcwdb', 'getegid', 'getenv', 'getenvb', 'geteuid', 'getgid', 'getgrouplist', 'getgroups', 'getloadavg', 'getlogin', 'getpgid', 'getpgrp', 'getpid', 'getppid', 'getpriority', 'getresgid', 'getresuid', 'getsid', 'getuid', 'getxattr', 'initgroups', 'isatty', 'kill', 'killpg', 'lchown', 'linesep', 'link', 'listdir', 'listxattr', 'lockf', 'lseek', 'lstat', 'major', 'makedev', 'makedirs', 'minor', 'mkdir', 'mkfifo', 'mknod', 'name', 'nice', 'open', 'openpty', 'pardir', 'path', 'pathconf', 'pathconf_names', 'pathsep', 'pipe', 'pipe2', 'popen', 'posix_fadvise', 'posix_fallocate', 'pread', 'preadv', 'putenv', 'pwrite', 'pwritev', 'read', 'readlink', 'readv', 'register_at_fork', 'remove', 'removedirs', 'removexattr', 'rename', 'renames', 'replace', 'rmdir', 'scandir', 'sched_get_priority_max', 'sched_get_priority_min', 'sched_getaffinity', 'sched_getparam', 'sched_getscheduler', 'sched_param', 'sched_rr_get_interval', 'sched_setaffinity', 'sched_setparam', 'sched_setscheduler', 'sched_yield', 'sendfile', 'sep', 'set_blocking', 'set_inheritable', 'setegid', 'seteuid', 'setgid', 'setgroups', 'setpgid', 'setpgrp', 'setpriority', 'setregid', 'setresgid', 'setresuid', 'setreuid', 'setsid', 'setuid', 'setxattr', 'spawnl', 'spawnle', 'spawnlp', 'spawnlpe', 'spawnv', 'spawnve', 'spawnvp', 'spawnvpe', 'st', 'stat', 'stat_result', 'statvfs', 'statvfs_result', 'strerror', 'supports_bytes_environ', 'supports_dir_fd', 'supports_effective_ids', 'supports_fd', 'supports_follow_symlinks', 'symlink', 'sync', 'sys', 'sysconf', 'sysconf_names', 'system', 'tcgetpgrp', 'tcsetpgrp', 'terminal_size', 'times', 'times_result', 'truncate', 'ttyname', 'umask', 'uname', 'uname_result', 'unlink', 'unsetenv', 'urandom', 'utime', 'wait', 'wait3', 'wait4', 'waitid', 'waitid_result', 'waitpid', 'walk', 'write', 'writev']\n"
     ]
    }
   ],
   "source": [
    "print(dir(os))"
   ]
  },
  {
   "cell_type": "code",
   "execution_count": 82,
   "metadata": {},
   "outputs": [
    {
     "data": {
      "text/plain": [
       "'/home/muhammadqasim/WindowData/PIAIC/syalani 3.30 - 6.30/python/Modules'"
      ]
     },
     "execution_count": 82,
     "metadata": {},
     "output_type": "execute_result"
    }
   ],
   "source": [
    "os.getcwd()"
   ]
  },
  {
   "cell_type": "code",
   "execution_count": 85,
   "metadata": {},
   "outputs": [],
   "source": [
    "os.chdir('/home/muhammadqasim/WindowData/PIAIC/syalani 3.30 - 6.30/python')"
   ]
  },
  {
   "cell_type": "code",
   "execution_count": 86,
   "metadata": {},
   "outputs": [
    {
     "data": {
      "text/plain": [
       "'/home/muhammadqasim/WindowData/PIAIC/syalani 3.30 - 6.30/python'"
      ]
     },
     "execution_count": 86,
     "metadata": {},
     "output_type": "execute_result"
    }
   ],
   "source": [
    "os.getcwd()"
   ]
  },
  {
   "cell_type": "code",
   "execution_count": 87,
   "metadata": {},
   "outputs": [],
   "source": [
    "os.chdir('/home/muhammadqasim/WindowData/PIAIC/syalani 3.30 - 6.30/python/Modules')"
   ]
  },
  {
   "cell_type": "code",
   "execution_count": 88,
   "metadata": {},
   "outputs": [
    {
     "name": "stdout",
     "output_type": "stream",
     "text": [
      "['.ipynb_checkpoints', 'Modules .ipynb', 'Untitled.ipynb']\n"
     ]
    }
   ],
   "source": [
    "print(os.listdir('/home/muhammadqasim/WindowData/PIAIC/syalani 3.30 - 6.30/python/Modules'))"
   ]
  },
  {
   "cell_type": "code",
   "execution_count": 90,
   "metadata": {},
   "outputs": [],
   "source": [
    "os.mkdir('hamza')"
   ]
  },
  {
   "cell_type": "code",
   "execution_count": 91,
   "metadata": {},
   "outputs": [
    {
     "name": "stdout",
     "output_type": "stream",
     "text": [
      "['.ipynb_checkpoints', 'hamza', 'Modules .ipynb', 'Untitled.ipynb']\n"
     ]
    }
   ],
   "source": [
    "print(os.listdir('/home/muhammadqasim/WindowData/PIAIC/syalani 3.30 - 6.30/python/Modules'))"
   ]
  },
  {
   "cell_type": "code",
   "execution_count": 92,
   "metadata": {},
   "outputs": [],
   "source": [
    "os.makedirs('haseeb/nehal/mansoor')"
   ]
  },
  {
   "cell_type": "code",
   "execution_count": 93,
   "metadata": {},
   "outputs": [],
   "source": [
    "os.rename('hamza','saqib')"
   ]
  },
  {
   "cell_type": "code",
   "execution_count": 94,
   "metadata": {},
   "outputs": [
    {
     "data": {
      "text/plain": [
       "False"
      ]
     },
     "execution_count": 94,
     "metadata": {},
     "output_type": "execute_result"
    }
   ],
   "source": [
    "os.path.exists('hamza')"
   ]
  },
  {
   "cell_type": "code",
   "execution_count": 95,
   "metadata": {},
   "outputs": [
    {
     "data": {
      "text/plain": [
       "True"
      ]
     },
     "execution_count": 95,
     "metadata": {},
     "output_type": "execute_result"
    }
   ],
   "source": [
    "os.path.exists('saqib')"
   ]
  },
  {
   "cell_type": "code",
   "execution_count": 96,
   "metadata": {},
   "outputs": [
    {
     "data": {
      "text/plain": [
       "False"
      ]
     },
     "execution_count": 96,
     "metadata": {},
     "output_type": "execute_result"
    }
   ],
   "source": [
    "os.path.isfile('Modules.ipynb')"
   ]
  },
  {
   "cell_type": "code",
   "execution_count": 97,
   "metadata": {},
   "outputs": [
    {
     "data": {
      "text/plain": [
       "True"
      ]
     },
     "execution_count": 97,
     "metadata": {},
     "output_type": "execute_result"
    }
   ],
   "source": [
    "os.path.isdir('saqib')"
   ]
  },
  {
   "cell_type": "markdown",
   "metadata": {},
   "source": [
    "Sort files by their extensions and move them in respective folders"
   ]
  },
  {
   "cell_type": "markdown",
   "metadata": {},
   "source": [
    "Random Module"
   ]
  },
  {
   "cell_type": "code",
   "execution_count": 99,
   "metadata": {},
   "outputs": [],
   "source": [
    "import random as r"
   ]
  },
  {
   "cell_type": "code",
   "execution_count": 100,
   "metadata": {},
   "outputs": [
    {
     "data": {
      "text/plain": [
       "0.7744706409227317"
      ]
     },
     "execution_count": 100,
     "metadata": {},
     "output_type": "execute_result"
    }
   ],
   "source": [
    "r.random()"
   ]
  },
  {
   "cell_type": "code",
   "execution_count": 112,
   "metadata": {},
   "outputs": [
    {
     "data": {
      "text/plain": [
       "8"
      ]
     },
     "execution_count": 112,
     "metadata": {},
     "output_type": "execute_result"
    }
   ],
   "source": [
    "r.randint(2,10)"
   ]
  },
  {
   "cell_type": "code",
   "execution_count": 116,
   "metadata": {},
   "outputs": [
    {
     "data": {
      "text/plain": [
       "0"
      ]
     },
     "execution_count": 116,
     "metadata": {},
     "output_type": "execute_result"
    }
   ],
   "source": [
    "r.randrange(0,10)"
   ]
  },
  {
   "cell_type": "code",
   "execution_count": 122,
   "metadata": {},
   "outputs": [
    {
     "data": {
      "text/plain": [
       "2"
      ]
     },
     "execution_count": 122,
     "metadata": {},
     "output_type": "execute_result"
    }
   ],
   "source": [
    "l = [1,2,3,4,5]\n",
    "r.choice(l)"
   ]
  },
  {
   "cell_type": "code",
   "execution_count": 135,
   "metadata": {},
   "outputs": [
    {
     "data": {
      "text/plain": [
       "[5, 4]"
      ]
     },
     "execution_count": 135,
     "metadata": {},
     "output_type": "execute_result"
    }
   ],
   "source": [
    "l = [1,2,3,4,5]\n",
    "r.choices(l,k=2)"
   ]
  },
  {
   "cell_type": "code",
   "execution_count": 136,
   "metadata": {},
   "outputs": [
    {
     "data": {
      "text/plain": [
       "[3, 5, 1]"
      ]
     },
     "execution_count": 136,
     "metadata": {},
     "output_type": "execute_result"
    }
   ],
   "source": [
    "r.sample(l,k=3)"
   ]
  },
  {
   "cell_type": "code",
   "execution_count": 141,
   "metadata": {},
   "outputs": [],
   "source": [
    "r.shuffle(l)"
   ]
  },
  {
   "cell_type": "code",
   "execution_count": 142,
   "metadata": {},
   "outputs": [
    {
     "data": {
      "text/plain": [
       "[3, 4, 5, 2, 1]"
      ]
     },
     "execution_count": 142,
     "metadata": {},
     "output_type": "execute_result"
    }
   ],
   "source": [
    "l"
   ]
  },
  {
   "cell_type": "code",
   "execution_count": 144,
   "metadata": {},
   "outputs": [
    {
     "data": {
      "text/plain": [
       "8.456224416549663"
      ]
     },
     "execution_count": 144,
     "metadata": {},
     "output_type": "execute_result"
    }
   ],
   "source": [
    "r.uniform(2,9)"
   ]
  },
  {
   "cell_type": "code",
   "execution_count": 146,
   "metadata": {},
   "outputs": [
    {
     "name": "stdout",
     "output_type": "stream",
     "text": [
      "None\n"
     ]
    }
   ],
   "source": [
    "r.seed(3)"
   ]
  },
  {
   "cell_type": "code",
   "execution_count": 147,
   "metadata": {},
   "outputs": [
    {
     "data": {
      "text/plain": [
       "(3,\n",
       " (2147483648,\n",
       "  507801126,\n",
       "  683453281,\n",
       "  310439348,\n",
       "  2597246090,\n",
       "  2209084787,\n",
       "  2267831527,\n",
       "  979920060,\n",
       "  3098657677,\n",
       "  37650879,\n",
       "  807947081,\n",
       "  3974896263,\n",
       "  881243242,\n",
       "  3100634921,\n",
       "  1334775171,\n",
       "  3965168385,\n",
       "  746264660,\n",
       "  4074750168,\n",
       "  500078808,\n",
       "  776561771,\n",
       "  702988163,\n",
       "  1636311725,\n",
       "  2559226045,\n",
       "  157578202,\n",
       "  2498342920,\n",
       "  2794591496,\n",
       "  4130598723,\n",
       "  496985844,\n",
       "  2944563015,\n",
       "  3731321600,\n",
       "  3514814613,\n",
       "  3362575829,\n",
       "  3038768745,\n",
       "  2206497038,\n",
       "  1108748846,\n",
       "  1317460727,\n",
       "  3134077628,\n",
       "  988312410,\n",
       "  1674063516,\n",
       "  746456451,\n",
       "  3958482413,\n",
       "  1857117812,\n",
       "  708750586,\n",
       "  1583423339,\n",
       "  3466495450,\n",
       "  1536929345,\n",
       "  1137240525,\n",
       "  3875025632,\n",
       "  2466137587,\n",
       "  1235845595,\n",
       "  4214575620,\n",
       "  3792516855,\n",
       "  657994358,\n",
       "  1241843248,\n",
       "  1695651859,\n",
       "  3678946666,\n",
       "  1929922113,\n",
       "  2351044952,\n",
       "  2317810202,\n",
       "  2039319015,\n",
       "  460787996,\n",
       "  3654096216,\n",
       "  4068721415,\n",
       "  1814163703,\n",
       "  2904112444,\n",
       "  1386111013,\n",
       "  574629867,\n",
       "  2654529343,\n",
       "  3833135042,\n",
       "  2725328455,\n",
       "  552431551,\n",
       "  4006991378,\n",
       "  1331562057,\n",
       "  3710134542,\n",
       "  303171486,\n",
       "  1203231078,\n",
       "  2670768975,\n",
       "  54570816,\n",
       "  2679609001,\n",
       "  578983064,\n",
       "  1271454725,\n",
       "  3230871056,\n",
       "  2496832891,\n",
       "  2944938195,\n",
       "  1608828728,\n",
       "  367886575,\n",
       "  2544708204,\n",
       "  103775539,\n",
       "  1912402393,\n",
       "  1098482180,\n",
       "  2738577070,\n",
       "  3091646463,\n",
       "  1505274463,\n",
       "  2079416566,\n",
       "  659100352,\n",
       "  839995305,\n",
       "  1696257633,\n",
       "  274389836,\n",
       "  3973303017,\n",
       "  671127655,\n",
       "  1061109122,\n",
       "  517486945,\n",
       "  1379749962,\n",
       "  3421383928,\n",
       "  3116950429,\n",
       "  2165882425,\n",
       "  2346928266,\n",
       "  2892678711,\n",
       "  2936066049,\n",
       "  1316407868,\n",
       "  2873411858,\n",
       "  4279682888,\n",
       "  2744351923,\n",
       "  3290373816,\n",
       "  1014377279,\n",
       "  955200944,\n",
       "  4220990860,\n",
       "  2386098930,\n",
       "  1772997650,\n",
       "  3757346974,\n",
       "  1621616438,\n",
       "  2877097197,\n",
       "  442116595,\n",
       "  2010480266,\n",
       "  2867861469,\n",
       "  2955352695,\n",
       "  605335967,\n",
       "  2222936009,\n",
       "  2067554933,\n",
       "  4129906358,\n",
       "  1519608541,\n",
       "  1195006590,\n",
       "  1942991038,\n",
       "  2736562236,\n",
       "  279162408,\n",
       "  1415982909,\n",
       "  4099901426,\n",
       "  1732201505,\n",
       "  2934657937,\n",
       "  860563237,\n",
       "  2479235483,\n",
       "  3081651097,\n",
       "  2244720867,\n",
       "  3112631622,\n",
       "  1636991639,\n",
       "  3860393305,\n",
       "  2312061927,\n",
       "  48780114,\n",
       "  1149090394,\n",
       "  2643246550,\n",
       "  1764050647,\n",
       "  3836789087,\n",
       "  3474859076,\n",
       "  4237194338,\n",
       "  1735191073,\n",
       "  2150369208,\n",
       "  92164394,\n",
       "  756974036,\n",
       "  2314453957,\n",
       "  323969533,\n",
       "  4267621035,\n",
       "  283649842,\n",
       "  810004843,\n",
       "  727855536,\n",
       "  1757827251,\n",
       "  3334960421,\n",
       "  3261035106,\n",
       "  38417393,\n",
       "  2660980472,\n",
       "  1256633965,\n",
       "  2184045390,\n",
       "  811213141,\n",
       "  2857482069,\n",
       "  2237770878,\n",
       "  3891003138,\n",
       "  2787806886,\n",
       "  2435192790,\n",
       "  2249324662,\n",
       "  3507764896,\n",
       "  995388363,\n",
       "  856944153,\n",
       "  619213904,\n",
       "  3233967826,\n",
       "  3703465555,\n",
       "  3286531781,\n",
       "  3863193356,\n",
       "  2992340714,\n",
       "  413696855,\n",
       "  3865185632,\n",
       "  1704163171,\n",
       "  3043634452,\n",
       "  2225424707,\n",
       "  2199018022,\n",
       "  3506117517,\n",
       "  3311559776,\n",
       "  3374443561,\n",
       "  1207829628,\n",
       "  668793165,\n",
       "  1822020716,\n",
       "  2082656160,\n",
       "  1160606415,\n",
       "  3034757648,\n",
       "  741703672,\n",
       "  3094328738,\n",
       "  459332691,\n",
       "  2702383376,\n",
       "  1610239915,\n",
       "  4162939394,\n",
       "  557861574,\n",
       "  3805706338,\n",
       "  3832520705,\n",
       "  1248934879,\n",
       "  3250424034,\n",
       "  892335058,\n",
       "  74323433,\n",
       "  3209751608,\n",
       "  3213220797,\n",
       "  3444035873,\n",
       "  3743886725,\n",
       "  1783837251,\n",
       "  610968664,\n",
       "  580745246,\n",
       "  4041979504,\n",
       "  201684874,\n",
       "  2673219253,\n",
       "  1377283008,\n",
       "  3497299167,\n",
       "  2344209394,\n",
       "  2304982920,\n",
       "  3081403782,\n",
       "  2599256854,\n",
       "  3184475235,\n",
       "  3373055826,\n",
       "  695186388,\n",
       "  2423332338,\n",
       "  222864327,\n",
       "  1258227992,\n",
       "  3627871647,\n",
       "  3487724980,\n",
       "  4027953808,\n",
       "  3053320360,\n",
       "  533627073,\n",
       "  3026232514,\n",
       "  2340271949,\n",
       "  867277230,\n",
       "  868513116,\n",
       "  2158535651,\n",
       "  2487822909,\n",
       "  3428235761,\n",
       "  3067196046,\n",
       "  3435119657,\n",
       "  1908441839,\n",
       "  788668797,\n",
       "  3367703138,\n",
       "  3317763187,\n",
       "  908264443,\n",
       "  2252100381,\n",
       "  764223334,\n",
       "  4127108988,\n",
       "  384641349,\n",
       "  3377374722,\n",
       "  1263833251,\n",
       "  1958694944,\n",
       "  3847832657,\n",
       "  1253909612,\n",
       "  1096494446,\n",
       "  555725445,\n",
       "  2277045895,\n",
       "  3340096504,\n",
       "  1383318686,\n",
       "  4234428127,\n",
       "  1072582179,\n",
       "  94169494,\n",
       "  1064509968,\n",
       "  2681151917,\n",
       "  2681864920,\n",
       "  734708852,\n",
       "  1338914021,\n",
       "  1270409500,\n",
       "  1789469116,\n",
       "  4191988204,\n",
       "  1716329784,\n",
       "  2213764829,\n",
       "  3712538840,\n",
       "  919910444,\n",
       "  1318414447,\n",
       "  3383806712,\n",
       "  3054941722,\n",
       "  3378649942,\n",
       "  1205735655,\n",
       "  1268136494,\n",
       "  2214009444,\n",
       "  2532395133,\n",
       "  3232230447,\n",
       "  230294038,\n",
       "  342599089,\n",
       "  772808141,\n",
       "  4096882234,\n",
       "  3146662953,\n",
       "  2784264306,\n",
       "  1860954704,\n",
       "  2675279609,\n",
       "  2984212876,\n",
       "  2466966981,\n",
       "  2627986059,\n",
       "  2985545332,\n",
       "  2578042598,\n",
       "  1458940786,\n",
       "  2944243755,\n",
       "  3959506256,\n",
       "  1509151382,\n",
       "  325761900,\n",
       "  942251521,\n",
       "  4184289782,\n",
       "  2756231555,\n",
       "  3297811774,\n",
       "  1169708099,\n",
       "  3280524138,\n",
       "  3805245319,\n",
       "  3227360276,\n",
       "  3199632491,\n",
       "  2235795585,\n",
       "  2865407118,\n",
       "  36763651,\n",
       "  2441503575,\n",
       "  3314890374,\n",
       "  1755526087,\n",
       "  17915536,\n",
       "  1196948233,\n",
       "  949343045,\n",
       "  3815841867,\n",
       "  489007833,\n",
       "  2654997597,\n",
       "  2834744136,\n",
       "  417688687,\n",
       "  2843220846,\n",
       "  85621843,\n",
       "  747339336,\n",
       "  2043645709,\n",
       "  3520444394,\n",
       "  1825470818,\n",
       "  647778910,\n",
       "  275904777,\n",
       "  1249389189,\n",
       "  3640887431,\n",
       "  4200779599,\n",
       "  323384601,\n",
       "  3446088641,\n",
       "  4049835786,\n",
       "  1718989062,\n",
       "  3563787136,\n",
       "  44099190,\n",
       "  3281263107,\n",
       "  22910812,\n",
       "  1826109246,\n",
       "  745118154,\n",
       "  3392171319,\n",
       "  1571490704,\n",
       "  354891067,\n",
       "  815955642,\n",
       "  1453450421,\n",
       "  940015623,\n",
       "  796817754,\n",
       "  1260148619,\n",
       "  3898237757,\n",
       "  176670141,\n",
       "  1870249326,\n",
       "  3317738680,\n",
       "  448918002,\n",
       "  4059166594,\n",
       "  2003827551,\n",
       "  987091377,\n",
       "  224855998,\n",
       "  3520570137,\n",
       "  789522610,\n",
       "  2604445123,\n",
       "  454472869,\n",
       "  475688926,\n",
       "  2990723466,\n",
       "  523362238,\n",
       "  3897608102,\n",
       "  806637149,\n",
       "  2642229586,\n",
       "  2928614432,\n",
       "  1564415411,\n",
       "  1691381054,\n",
       "  3816907227,\n",
       "  4082581003,\n",
       "  1895544448,\n",
       "  3728217394,\n",
       "  3214813157,\n",
       "  4054301607,\n",
       "  1882632454,\n",
       "  2873728645,\n",
       "  3694943071,\n",
       "  1297991732,\n",
       "  2101682438,\n",
       "  3952579552,\n",
       "  678650400,\n",
       "  1391722293,\n",
       "  478833748,\n",
       "  2976468591,\n",
       "  158586606,\n",
       "  2576499787,\n",
       "  662690848,\n",
       "  3799889765,\n",
       "  3328894692,\n",
       "  2474578497,\n",
       "  2383901391,\n",
       "  1718193504,\n",
       "  3003184595,\n",
       "  3630561213,\n",
       "  1929441113,\n",
       "  3848238627,\n",
       "  1594310094,\n",
       "  3040359840,\n",
       "  3051803867,\n",
       "  2462788790,\n",
       "  954409915,\n",
       "  802581771,\n",
       "  681703307,\n",
       "  545982392,\n",
       "  2738993819,\n",
       "  8025358,\n",
       "  2827719383,\n",
       "  770471093,\n",
       "  3484895980,\n",
       "  3111306320,\n",
       "  3900000891,\n",
       "  2116916652,\n",
       "  397746721,\n",
       "  2087689510,\n",
       "  721433935,\n",
       "  1396088885,\n",
       "  2751612384,\n",
       "  1998988613,\n",
       "  2135074843,\n",
       "  2521131298,\n",
       "  707009172,\n",
       "  2398321482,\n",
       "  688041159,\n",
       "  2264560137,\n",
       "  482388305,\n",
       "  207864885,\n",
       "  3735036991,\n",
       "  3490348331,\n",
       "  1963642811,\n",
       "  3260224305,\n",
       "  3493564223,\n",
       "  1939428454,\n",
       "  1128799656,\n",
       "  1366012432,\n",
       "  2858822447,\n",
       "  1428147157,\n",
       "  2261125391,\n",
       "  1611208390,\n",
       "  1134826333,\n",
       "  2374102525,\n",
       "  3833625209,\n",
       "  2266397263,\n",
       "  3189115077,\n",
       "  770080230,\n",
       "  2674657172,\n",
       "  4280146640,\n",
       "  3604531615,\n",
       "  4235071805,\n",
       "  3436987249,\n",
       "  509704467,\n",
       "  2582695198,\n",
       "  4256268040,\n",
       "  3391197562,\n",
       "  1460642842,\n",
       "  1617931012,\n",
       "  457825497,\n",
       "  1031452907,\n",
       "  1330422862,\n",
       "  4125947620,\n",
       "  2280712485,\n",
       "  431892090,\n",
       "  2387410588,\n",
       "  2061126784,\n",
       "  896457479,\n",
       "  3480499461,\n",
       "  2488196663,\n",
       "  4021103792,\n",
       "  1877063114,\n",
       "  2744470201,\n",
       "  1046140599,\n",
       "  2129952955,\n",
       "  3583049218,\n",
       "  4217723693,\n",
       "  2720341743,\n",
       "  820661843,\n",
       "  1079873609,\n",
       "  3360954200,\n",
       "  3652304997,\n",
       "  3335838575,\n",
       "  2178810636,\n",
       "  1908053374,\n",
       "  4026721976,\n",
       "  1793145418,\n",
       "  476541615,\n",
       "  973420250,\n",
       "  515553040,\n",
       "  919292001,\n",
       "  2601786155,\n",
       "  1685119450,\n",
       "  3030170809,\n",
       "  1590676150,\n",
       "  1665099167,\n",
       "  651151584,\n",
       "  2077190587,\n",
       "  957892642,\n",
       "  646336572,\n",
       "  2743719258,\n",
       "  866169074,\n",
       "  851118829,\n",
       "  4225766285,\n",
       "  963748226,\n",
       "  799549420,\n",
       "  1955032629,\n",
       "  799460000,\n",
       "  2425744063,\n",
       "  2441291571,\n",
       "  1928963772,\n",
       "  528930629,\n",
       "  2591962884,\n",
       "  3495142819,\n",
       "  1896021824,\n",
       "  901320159,\n",
       "  3181820243,\n",
       "  843061941,\n",
       "  3338628510,\n",
       "  3782438992,\n",
       "  9515330,\n",
       "  1705797226,\n",
       "  953535929,\n",
       "  764833876,\n",
       "  3202464965,\n",
       "  2970244591,\n",
       "  519154982,\n",
       "  3390617541,\n",
       "  566616744,\n",
       "  3438031503,\n",
       "  1853838297,\n",
       "  170608755,\n",
       "  1393728434,\n",
       "  676900116,\n",
       "  3184965776,\n",
       "  1843100290,\n",
       "  78995357,\n",
       "  2227939888,\n",
       "  3460264600,\n",
       "  1745705055,\n",
       "  1474086965,\n",
       "  572796246,\n",
       "  4081303004,\n",
       "  882828851,\n",
       "  1295445825,\n",
       "  137639900,\n",
       "  3304579600,\n",
       "  2722437017,\n",
       "  4093422709,\n",
       "  273203373,\n",
       "  2666507854,\n",
       "  3998836510,\n",
       "  493829981,\n",
       "  1623949669,\n",
       "  3482036755,\n",
       "  3390023939,\n",
       "  833233937,\n",
       "  1639668730,\n",
       "  1499455075,\n",
       "  249728260,\n",
       "  1210694006,\n",
       "  3836497489,\n",
       "  1551488720,\n",
       "  3253074267,\n",
       "  3388238003,\n",
       "  2372035079,\n",
       "  3945715164,\n",
       "  2029501215,\n",
       "  3362012634,\n",
       "  2007375355,\n",
       "  4074709820,\n",
       "  631485888,\n",
       "  3135015769,\n",
       "  4273087084,\n",
       "  3648076204,\n",
       "  2739943601,\n",
       "  1374020358,\n",
       "  1760722448,\n",
       "  3773939706,\n",
       "  1313027823,\n",
       "  1895251226,\n",
       "  4224465911,\n",
       "  421382535,\n",
       "  1141067370,\n",
       "  3660034846,\n",
       "  3393185650,\n",
       "  1850995280,\n",
       "  1451917312,\n",
       "  3841455409,\n",
       "  3926840308,\n",
       "  1397397252,\n",
       "  2572864479,\n",
       "  2500171350,\n",
       "  3119920613,\n",
       "  531400869,\n",
       "  1626487579,\n",
       "  1099320497,\n",
       "  407414753,\n",
       "  2438623324,\n",
       "  99073255,\n",
       "  3175491512,\n",
       "  656431560,\n",
       "  1153671785,\n",
       "  236307875,\n",
       "  2824738046,\n",
       "  2320621382,\n",
       "  892174056,\n",
       "  230984053,\n",
       "  719791226,\n",
       "  2718891946,\n",
       "  624),\n",
       " None)"
      ]
     },
     "execution_count": 147,
     "metadata": {},
     "output_type": "execute_result"
    }
   ],
   "source": [
    "r.getstate()"
   ]
  },
  {
   "cell_type": "markdown",
   "metadata": {},
   "source": [
    "Formating"
   ]
  },
  {
   "cell_type": "code",
   "execution_count": 148,
   "metadata": {},
   "outputs": [
    {
     "name": "stdout",
     "output_type": "stream",
     "text": [
      "1\n"
     ]
    }
   ],
   "source": [
    "print(1)"
   ]
  },
  {
   "cell_type": "code",
   "execution_count": 150,
   "metadata": {},
   "outputs": [
    {
     "name": "stdout",
     "output_type": "stream",
     "text": [
      "a is 12\n"
     ]
    }
   ],
   "source": [
    "a =12\n",
    "print(\"a is {}\".format(a))"
   ]
  },
  {
   "cell_type": "code",
   "execution_count": 152,
   "metadata": {},
   "outputs": [
    {
     "name": "stdout",
     "output_type": "stream",
     "text": [
      "I won 56 pieces of itemno 3 for 200.000000 dollars\n"
     ]
    }
   ],
   "source": [
    "quantity = 3 \n",
    "itemno =56\n",
    "price=200\n",
    "my_order = \"I won {1} pieces of itemno {0} for {2:2f} dollars\"\n",
    "print(my_order.format(quantity,itemno,price))"
   ]
  },
  {
   "cell_type": "markdown",
   "metadata": {},
   "source": [
    "# sys module"
   ]
  },
  {
   "cell_type": "code",
   "execution_count": 153,
   "metadata": {},
   "outputs": [],
   "source": [
    "import sys"
   ]
  },
  {
   "cell_type": "code",
   "execution_count": 154,
   "metadata": {},
   "outputs": [],
   "source": [
    "def boy_scout(a,b):\n",
    "    '''\n",
    "    prints a and b\n",
    "    '''\n",
    "    return a+b"
   ]
  },
  {
   "cell_type": "code",
   "execution_count": 155,
   "metadata": {},
   "outputs": [
    {
     "name": "stdout",
     "output_type": "stream",
     "text": [
      "Help on function boy_scout in module __main__:\n",
      "\n",
      "boy_scout(a, b)\n",
      "    prints a and b\n",
      "\n"
     ]
    }
   ],
   "source": [
    "help(boy_scout)"
   ]
  },
  {
   "cell_type": "code",
   "execution_count": null,
   "metadata": {},
   "outputs": [],
   "source": []
  }
 ],
 "metadata": {
  "kernelspec": {
   "display_name": "Python 3",
   "language": "python",
   "name": "python3"
  },
  "language_info": {
   "codemirror_mode": {
    "name": "ipython",
    "version": 3
   },
   "file_extension": ".py",
   "mimetype": "text/x-python",
   "name": "python",
   "nbconvert_exporter": "python",
   "pygments_lexer": "ipython3",
   "version": "3.7.1"
  }
 },
 "nbformat": 4,
 "nbformat_minor": 2
}
