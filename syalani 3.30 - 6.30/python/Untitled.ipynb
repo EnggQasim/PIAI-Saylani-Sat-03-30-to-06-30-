{
 "cells": [
  {
   "cell_type": "raw",
   "metadata": {},
   "source": [
    "# Input\n",
    "{\n",
    "    \"a\": 7,\n",
    "    \"b\": 2,\n",
    "    \"c\": 8\n",
    "}"
   ]
  },
  {
   "cell_type": "raw",
   "metadata": {},
   "source": [
    "# Result\n",
    "{\n",
    "    \"b\": 2,\n",
    "    \"a\": 7,\n",
    "    \"c\": 8\n",
    "}"
   ]
  },
  {
   "cell_type": "code",
   "execution_count": 3,
   "metadata": {},
   "outputs": [],
   "source": [
    "obj = {\n",
    "    \"a\": 7,\n",
    "    \"b\": 2,\n",
    "    \"c\": 8\n",
    "}\n",
    "obj1 = dict(sorted(obj.items(),\n",
    "      key=lambda v: v[1]))"
   ]
  },
  {
   "cell_type": "code",
   "execution_count": 4,
   "metadata": {},
   "outputs": [
    {
     "data": {
      "text/plain": [
       "{'b': 2, 'a': 7, 'c': 8}"
      ]
     },
     "execution_count": 4,
     "metadata": {},
     "output_type": "execute_result"
    }
   ],
   "source": [
    "obj1"
   ]
  },
  {
   "cell_type": "code",
   "execution_count": 7,
   "metadata": {},
   "outputs": [],
   "source": [
    "a = \"dog cat dog cat cat apple\"\n",
    "res = {\"cat\":3,\"dog\":2,\"apple\":1}"
   ]
  },
  {
   "cell_type": "code",
   "execution_count": 8,
   "metadata": {},
   "outputs": [
    {
     "data": {
      "text/plain": [
       "['dog', 'cat', 'dog', 'cat', 'cat', 'apple']"
      ]
     },
     "execution_count": 8,
     "metadata": {},
     "output_type": "execute_result"
    }
   ],
   "source": [
    "a.split()"
   ]
  },
  {
   "cell_type": "code",
   "execution_count": 10,
   "metadata": {},
   "outputs": [],
   "source": [
    "c = range(1,2019)\n",
    "# divisible by 5 and 7 but not divisible by 15\n",
    "# print those number by comma seprated"
   ]
  },
  {
   "cell_type": "code",
   "execution_count": 11,
   "metadata": {},
   "outputs": [
    {
     "data": {
      "text/plain": [
       "('5', '2', '3')"
      ]
     },
     "execution_count": 11,
     "metadata": {},
     "output_type": "execute_result"
    }
   ],
   "source": [
    "\"5\",\"2\",\"3\"\n",
    "# sum should be 10"
   ]
  },
  {
   "cell_type": "markdown",
   "metadata": {},
   "source": [
    "## Generate Random number b/w 1 to 10 \n",
    "## Give user 3 chances \n",
    "##"
   ]
  }
 ],
 "metadata": {
  "kernelspec": {
   "display_name": "Python 3",
   "language": "python",
   "name": "python3"
  },
  "language_info": {
   "codemirror_mode": {
    "name": "ipython",
    "version": 3
   },
   "file_extension": ".py",
   "mimetype": "text/x-python",
   "name": "python",
   "nbconvert_exporter": "python",
   "pygments_lexer": "ipython3",
   "version": "3.7.1"
  }
 },
 "nbformat": 4,
 "nbformat_minor": 2
}
