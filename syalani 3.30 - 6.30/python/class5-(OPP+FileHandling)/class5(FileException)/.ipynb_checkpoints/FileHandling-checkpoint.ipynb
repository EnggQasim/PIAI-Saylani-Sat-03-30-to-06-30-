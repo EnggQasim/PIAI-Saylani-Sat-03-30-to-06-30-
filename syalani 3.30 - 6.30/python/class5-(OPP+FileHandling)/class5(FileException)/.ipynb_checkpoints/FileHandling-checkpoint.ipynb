{
 "cells": [
  {
   "cell_type": "code",
   "execution_count": 1,
   "metadata": {},
   "outputs": [
    {
     "data": {
      "text/plain": [
       "<_io.TextIOWrapper name='filereadwrite/demo.txt' mode='r' encoding='UTF-8'>"
      ]
     },
     "execution_count": 1,
     "metadata": {},
     "output_type": "execute_result"
    }
   ],
   "source": [
    "open('filereadwrite/demo.txt')\n",
    "\n",
    "\n"
   ]
  },
  {
   "cell_type": "code",
   "execution_count": 4,
   "metadata": {},
   "outputs": [],
   "source": [
    "data = open('filereadwrite/demo.txt')\n",
    "data.read()\n",
    "data.close()"
   ]
  },
  {
   "cell_type": "code",
   "execution_count": null,
   "metadata": {},
   "outputs": [],
   "source": []
  },
  {
   "cell_type": "code",
   "execution_count": 5,
   "metadata": {},
   "outputs": [
    {
     "name": "stdout",
     "output_type": "stream",
     "text": [
      "Hello World 1\n",
      "Hello World 2\n",
      "Hello World 3\n",
      "Hello World 4\n",
      "Hello World 5\n",
      "Hello World 6\n",
      "\n"
     ]
    }
   ],
   "source": [
    "# %load filereadwrite/file1.py\n",
    "with open('filereadwrite/demo.txt') as fileObj:\n",
    "    content = fileObj.read()\n",
    "    print(content)\n",
    "    "
   ]
  },
  {
   "cell_type": "code",
   "execution_count": 6,
   "metadata": {},
   "outputs": [
    {
     "name": "stdout",
     "output_type": "stream",
     "text": [
      "Hello World 1\n",
      "\n",
      "Hello World 2\n",
      "\n",
      "Hello World 3\n",
      "\n",
      "Hello World 4\n",
      "\n",
      "Hello World 5\n",
      "\n",
      "Hello World 6\n",
      "\n"
     ]
    }
   ],
   "source": [
    "# %load filereadwrite/file2.py\n",
    "with open('filereadwrite/demo.txt') as fileObj:\n",
    "    for line in fileObj:\n",
    "        print(line)"
   ]
  },
  {
   "cell_type": "code",
   "execution_count": 7,
   "metadata": {
    "scrolled": true
   },
   "outputs": [
    {
     "name": "stdout",
     "output_type": "stream",
     "text": [
      "['Hello World 1\\n', 'Hello World 2\\n', 'Hello World 3\\n', 'Hello World 4\\n', 'Hello World 5\\n', 'Hello World 6\\n']\n"
     ]
    }
   ],
   "source": [
    "# %load filereadwrite/file3.py\n",
    "with open('filereadwrite/demo.txt') as fileObj:\n",
    "    lines = fileObj.readlines()\n",
    "    print(lines)"
   ]
  },
  {
   "cell_type": "code",
   "execution_count": 8,
   "metadata": {},
   "outputs": [
    {
     "name": "stdout",
     "output_type": "stream",
     "text": [
      "['hello', 'test', 'Hello World 1\\n', 'Hello World 2\\n', 'Hello World 3\\n', 'Hello World 4\\n', 'Hello World 5\\n', 'Hello World 6\\n']\n"
     ]
    }
   ],
   "source": [
    "# %load filereadwrite/file4.py\n",
    "mylist = [\"hello\",\"test\"]\n",
    "with open('filereadwrite/demo.txt', mode='r') as fileObj:\n",
    "    lines = fileObj.readlines()\n",
    "    mylist  = mylist + lines\n",
    "    print(mylist)"
   ]
  },
  {
   "cell_type": "code",
   "execution_count": 9,
   "metadata": {},
   "outputs": [],
   "source": [
    "# %load filereadwrite/file5.py\n",
    "\n",
    "with open('filereadwrite/demo1.txt','w') as fileObj:\n",
    "    fileObj.write(\"PIAIC Saylani\")"
   ]
  },
  {
   "cell_type": "code",
   "execution_count": null,
   "metadata": {},
   "outputs": [],
   "source": [
    "# %load filereadwrite/file5.py\n",
    "\n",
    "with open('filereadwrite/demo1.txt','x') as fileObj:\n",
    "    fileObj.write(\"PIAIC Saylanijas df\")"
   ]
  },
  {
   "cell_type": "code",
   "execution_count": null,
   "metadata": {},
   "outputs": [],
   "source": [
    "# %load filereadwrite/file6.py\n",
    "\n",
    "with open('filereadwrite/demo1.txt','a') as fileObj:\n",
    "    fileObj.write(\"I love programming!\\n\")\n",
    "    #content = fileObj.read()\n",
    "    #print(content)"
   ]
  },
  {
   "cell_type": "code",
   "execution_count": null,
   "metadata": {},
   "outputs": [],
   "source": [
    "# %load filereadwrite/file7.py\n",
    "\n",
    "with open('filereadwrite/demo1.txt','r+') as fileObj:\n",
    "    fileObj.write(\"I love programming2!\\n\")\n",
    "\n",
    "    fileObj.seek(0)\n",
    "    content = fileObj.readlines()\n",
    "    print(content)\n",
    "\n"
   ]
  },
  {
   "cell_type": "code",
   "execution_count": null,
   "metadata": {},
   "outputs": [],
   "source": [
    "# %load filereadwrite/file8.py\n",
    "import  os;\n",
    "\n",
    "p = os.path.isfile(\"demo.txt\")\n",
    "p1 = os.path.isdir(\"C:\\\\Windows\")\n",
    "dirList = os.listdir(\"C:\\\\Windows\")\n",
    "print(p)\n",
    "print(p1)\n",
    "print(dirList)"
   ]
  },
  {
   "cell_type": "code",
   "execution_count": null,
   "metadata": {},
   "outputs": [],
   "source": [
    "a=\"pakistan zinda bad\""
   ]
  },
  {
   "cell_type": "code",
   "execution_count": null,
   "metadata": {},
   "outputs": [],
   "source": [
    "a.capitalize()"
   ]
  },
  {
   "cell_type": "code",
   "execution_count": null,
   "metadata": {},
   "outputs": [],
   "source": [
    "a.lower()"
   ]
  },
  {
   "cell_type": "code",
   "execution_count": null,
   "metadata": {},
   "outputs": [],
   "source": [
    "a.upper()"
   ]
  },
  {
   "cell_type": "code",
   "execution_count": null,
   "metadata": {},
   "outputs": [],
   "source": []
  }
 ],
 "metadata": {
  "kernelspec": {
   "display_name": "Python 3",
   "language": "python",
   "name": "python3"
  },
  "language_info": {
   "codemirror_mode": {
    "name": "ipython",
    "version": 3
   },
   "file_extension": ".py",
   "mimetype": "text/x-python",
   "name": "python",
   "nbconvert_exporter": "python",
   "pygments_lexer": "ipython3",
   "version": "3.7.1"
  }
 },
 "nbformat": 4,
 "nbformat_minor": 2
}
