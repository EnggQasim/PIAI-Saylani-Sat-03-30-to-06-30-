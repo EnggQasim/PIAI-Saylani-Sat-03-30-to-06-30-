{
 "cells": [
  {
   "cell_type": "code",
   "execution_count": 12,
   "metadata": {},
   "outputs": [],
   "source": [
    "class Man():\n",
    "    \n",
    "    counter = 0\n",
    "    def __init__(self, name, fname, qualification): #constructor\n",
    "        self.name = name # Attribute / properties\n",
    "        self.fname = fname\n",
    "        self.qualification = qualification\n",
    "        self.abc = \"pakistan\"\n",
    "        self.xyz = \"we are pakistani\"\n",
    "        Man.counter += 1\n",
    "        print(\"Total Members: \", Man.counter)\n",
    "    \n",
    "    def speaking(self, words=\"Hello\"):\n",
    "        print(words)\n",
    "    \n",
    "    def watching(self, watch=\"T.V\"):\n",
    "        print(watch)\n",
    "    \n",
    "    def eating(self, bread = \"Roti\"):\n",
    "        print(bread)"
   ]
  },
  {
   "cell_type": "code",
   "execution_count": 13,
   "metadata": {},
   "outputs": [
    {
     "name": "stdout",
     "output_type": "stream",
     "text": [
      "Total Members:  1\n",
      "Total Members:  2\n",
      "Total Members:  3\n"
     ]
    }
   ],
   "source": [
    "obj1 = Man(\"Munib\",\"Mansoor\",\"B.E\")\n",
    "obj2 = Man(\"Qasim\",\"Aslam\",\"ABC\")\n",
    "obj3 = Man(\"Hamza\",\"Junaid\",\"XYZ\")"
   ]
  },
  {
   "cell_type": "code",
   "execution_count": 3,
   "metadata": {},
   "outputs": [
    {
     "data": {
      "text/plain": [
       "'Munib'"
      ]
     },
     "execution_count": 3,
     "metadata": {},
     "output_type": "execute_result"
    }
   ],
   "source": [
    "obj1.name"
   ]
  },
  {
   "cell_type": "code",
   "execution_count": 14,
   "metadata": {},
   "outputs": [
    {
     "data": {
      "text/plain": [
       "3"
      ]
     },
     "execution_count": 14,
     "metadata": {},
     "output_type": "execute_result"
    }
   ],
   "source": [
    "Man.counter"
   ]
  },
  {
   "cell_type": "code",
   "execution_count": 4,
   "metadata": {},
   "outputs": [
    {
     "data": {
      "text/plain": [
       "'Qasim'"
      ]
     },
     "execution_count": 4,
     "metadata": {},
     "output_type": "execute_result"
    }
   ],
   "source": [
    "obj2.name"
   ]
  },
  {
   "cell_type": "code",
   "execution_count": 5,
   "metadata": {},
   "outputs": [
    {
     "name": "stdout",
     "output_type": "stream",
     "text": [
      "Roti\n"
     ]
    }
   ],
   "source": [
    "obj2.eating()"
   ]
  },
  {
   "cell_type": "code",
   "execution_count": 6,
   "metadata": {},
   "outputs": [
    {
     "name": "stdout",
     "output_type": "stream",
     "text": [
      "Botti\n"
     ]
    }
   ],
   "source": [
    "obj2.eating(\"Botti\")"
   ]
  },
  {
   "cell_type": "code",
   "execution_count": 9,
   "metadata": {},
   "outputs": [
    {
     "data": {
      "text/plain": [
       "<__main__.Man at 0x7f60400fa940>"
      ]
     },
     "execution_count": 9,
     "metadata": {},
     "output_type": "execute_result"
    }
   ],
   "source": [
    "obj1"
   ]
  },
  {
   "cell_type": "code",
   "execution_count": 10,
   "metadata": {},
   "outputs": [],
   "source": [
    "class Baba(Man):\n",
    "    pass"
   ]
  },
  {
   "cell_type": "code",
   "execution_count": 11,
   "metadata": {},
   "outputs": [],
   "source": [
    "ob1 = Baba(\"ad\",'bc',20)"
   ]
  },
  {
   "cell_type": "code",
   "execution_count": null,
   "metadata": {},
   "outputs": [],
   "source": [
    "ob1."
   ]
  }
 ],
 "metadata": {
  "kernelspec": {
   "display_name": "Python 3",
   "language": "python",
   "name": "python3"
  },
  "language_info": {
   "codemirror_mode": {
    "name": "ipython",
    "version": 3
   },
   "file_extension": ".py",
   "mimetype": "text/x-python",
   "name": "python",
   "nbconvert_exporter": "python",
   "pygments_lexer": "ipython3",
   "version": "3.7.1"
  }
 },
 "nbformat": 4,
 "nbformat_minor": 2
}
