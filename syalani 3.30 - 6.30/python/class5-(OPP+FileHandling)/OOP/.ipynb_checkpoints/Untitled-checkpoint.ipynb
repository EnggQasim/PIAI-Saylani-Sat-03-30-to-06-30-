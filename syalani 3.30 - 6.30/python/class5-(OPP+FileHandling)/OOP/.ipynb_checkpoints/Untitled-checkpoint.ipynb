{
 "cells": [
  {
   "cell_type": "code",
   "execution_count": 1,
   "metadata": {},
   "outputs": [],
   "source": [
    "class Man():\n",
    "    def __init__(self, name, fname, qualification): #constructor\n",
    "        self.name = name # Attribute / properties\n",
    "        self.fname = fname\n",
    "        self.qualification = qualification\n",
    "        self.abc = \"pakistan\"\n",
    "        self.xyz = \"we are pakistani\"\n",
    "    \n",
    "    def speaking(self, words=\"Hello\"):\n",
    "        print(words)\n",
    "    \n",
    "    def watching(self, watch=\"T.V\"):\n",
    "        print(watch)\n",
    "    \n",
    "    def eating(self, bread = \"Roti\"):\n",
    "        print(bread)"
   ]
  },
  {
   "cell_type": "code",
   "execution_count": 2,
   "metadata": {},
   "outputs": [],
   "source": [
    "obj1 = Man(\"Munib\",\"Mansoor\",\"B.E\")\n",
    "obj2 = Man(\"Qasim\",\"Aslam\",\"ABC\")\n",
    "obj3 = Man(\"Hamza\",\"Junaid\",\"XYZ\")"
   ]
  },
  {
   "cell_type": "code",
   "execution_count": 3,
   "metadata": {},
   "outputs": [
    {
     "data": {
      "text/plain": [
       "'Munib'"
      ]
     },
     "execution_count": 3,
     "metadata": {},
     "output_type": "execute_result"
    }
   ],
   "source": [
    "obj1.name"
   ]
  },
  {
   "cell_type": "code",
   "execution_count": 4,
   "metadata": {},
   "outputs": [
    {
     "data": {
      "text/plain": [
       "'Qasim'"
      ]
     },
     "execution_count": 4,
     "metadata": {},
     "output_type": "execute_result"
    }
   ],
   "source": [
    "obj2.name"
   ]
  },
  {
   "cell_type": "code",
   "execution_count": 5,
   "metadata": {},
   "outputs": [
    {
     "name": "stdout",
     "output_type": "stream",
     "text": [
      "Roti\n"
     ]
    }
   ],
   "source": [
    "obj2.eating()"
   ]
  },
  {
   "cell_type": "code",
   "execution_count": 6,
   "metadata": {},
   "outputs": [
    {
     "name": "stdout",
     "output_type": "stream",
     "text": [
      "Botti\n"
     ]
    }
   ],
   "source": [
    "obj2.eating(\"Botti\")"
   ]
  },
  {
   "cell_type": "code",
   "execution_count": null,
   "metadata": {},
   "outputs": [],
   "source": []
  }
 ],
 "metadata": {
  "kernelspec": {
   "display_name": "Python 3",
   "language": "python",
   "name": "python3"
  },
  "language_info": {
   "codemirror_mode": {
    "name": "ipython",
    "version": 3
   },
   "file_extension": ".py",
   "mimetype": "text/x-python",
   "name": "python",
   "nbconvert_exporter": "python",
   "pygments_lexer": "ipython3",
   "version": "3.7.1"
  }
 },
 "nbformat": 4,
 "nbformat_minor": 2
}
